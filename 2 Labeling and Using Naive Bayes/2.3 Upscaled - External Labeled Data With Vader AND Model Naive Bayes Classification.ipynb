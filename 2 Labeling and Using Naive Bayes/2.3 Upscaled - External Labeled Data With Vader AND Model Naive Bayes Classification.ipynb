{
 "cells": [
  {
   "cell_type": "code",
   "execution_count": 142,
   "id": "81991083",
   "metadata": {},
   "outputs": [],
   "source": [
    "import numpy as np \n",
    "import pandas as pd "
   ]
  },
  {
   "cell_type": "code",
   "execution_count": 143,
   "id": "e817c469",
   "metadata": {},
   "outputs": [],
   "source": [
    "import matplotlib.pyplot as plt\n",
    "import os\n",
    "\n",
    "import nltk\n",
    "from nltk.sentiment.vader import SentimentIntensityAnalyzer\n",
    "from nltk.tokenize import word_tokenize\n",
    "from nltk.stem import WordNetLemmatizer\n",
    "\n",
    "from nltk.corpus import stopwords\n",
    "from nltk.corpus import wordnet\n",
    "import string\n",
    "from string import punctuation\n",
    "\n",
    "import re"
   ]
  },
  {
   "cell_type": "code",
   "execution_count": 144,
   "id": "3821b5a2",
   "metadata": {},
   "outputs": [
    {
     "name": "stderr",
     "output_type": "stream",
     "text": [
      "[nltk_data] Downloading package vader_lexicon to\n",
      "[nltk_data]     C:\\Users\\HP\\AppData\\Roaming\\nltk_data...\n",
      "[nltk_data]   Package vader_lexicon is already up-to-date!\n"
     ]
    }
   ],
   "source": [
    "from nltk.sentiment.vader import SentimentIntensityAnalyzer\n",
    "nltk.download('vader_lexicon')\n",
    "sentiments = SentimentIntensityAnalyzer()"
   ]
  },
  {
   "cell_type": "code",
   "execution_count": 145,
   "id": "dd01c8f5",
   "metadata": {},
   "outputs": [
    {
     "data": {
      "text/plain": [
       "Index(['reviewText', 'Positive'], dtype='object')"
      ]
     },
     "execution_count": 145,
     "metadata": {},
     "output_type": "execute_result"
    }
   ],
   "source": [
    "data = pd.read_csv('https://raw.githubusercontent.com/pycaret/pycaret/master/datasets/amazon.csv')\n",
    "data.columns"
   ]
  },
  {
   "cell_type": "code",
   "execution_count": 146,
   "id": "af15775f",
   "metadata": {},
   "outputs": [
    {
     "data": {
      "text/html": [
       "<div>\n",
       "<style scoped>\n",
       "    .dataframe tbody tr th:only-of-type {\n",
       "        vertical-align: middle;\n",
       "    }\n",
       "\n",
       "    .dataframe tbody tr th {\n",
       "        vertical-align: top;\n",
       "    }\n",
       "\n",
       "    .dataframe thead th {\n",
       "        text-align: right;\n",
       "    }\n",
       "</style>\n",
       "<table border=\"1\" class=\"dataframe\">\n",
       "  <thead>\n",
       "    <tr style=\"text-align: right;\">\n",
       "      <th></th>\n",
       "      <th>reviewText</th>\n",
       "      <th>Positive</th>\n",
       "    </tr>\n",
       "  </thead>\n",
       "  <tbody>\n",
       "    <tr>\n",
       "      <th>0</th>\n",
       "      <td>This is a one of the best apps acording to a b...</td>\n",
       "      <td>1</td>\n",
       "    </tr>\n",
       "    <tr>\n",
       "      <th>1</th>\n",
       "      <td>This is a pretty good version of the game for ...</td>\n",
       "      <td>1</td>\n",
       "    </tr>\n",
       "    <tr>\n",
       "      <th>2</th>\n",
       "      <td>this is a really cool game. there are a bunch ...</td>\n",
       "      <td>1</td>\n",
       "    </tr>\n",
       "    <tr>\n",
       "      <th>3</th>\n",
       "      <td>This is a silly game and can be frustrating, b...</td>\n",
       "      <td>1</td>\n",
       "    </tr>\n",
       "    <tr>\n",
       "      <th>4</th>\n",
       "      <td>This is a terrific game on any pad. Hrs of fun...</td>\n",
       "      <td>1</td>\n",
       "    </tr>\n",
       "  </tbody>\n",
       "</table>\n",
       "</div>"
      ],
      "text/plain": [
       "                                          reviewText  Positive\n",
       "0  This is a one of the best apps acording to a b...         1\n",
       "1  This is a pretty good version of the game for ...         1\n",
       "2  this is a really cool game. there are a bunch ...         1\n",
       "3  This is a silly game and can be frustrating, b...         1\n",
       "4  This is a terrific game on any pad. Hrs of fun...         1"
      ]
     },
     "execution_count": 146,
     "metadata": {},
     "output_type": "execute_result"
    }
   ],
   "source": [
    "data.head()"
   ]
  },
  {
   "cell_type": "code",
   "execution_count": 147,
   "id": "4d1a4a37",
   "metadata": {},
   "outputs": [
    {
     "data": {
      "text/plain": [
       "1    15233\n",
       "0     4767\n",
       "Name: Positive, dtype: int64"
      ]
     },
     "execution_count": 147,
     "metadata": {},
     "output_type": "execute_result"
    }
   ],
   "source": [
    "data.Positive.value_counts()"
   ]
  },
  {
   "cell_type": "code",
   "execution_count": 148,
   "id": "827799ec",
   "metadata": {
    "scrolled": true
   },
   "outputs": [
    {
     "data": {
      "text/html": [
       "<div>\n",
       "<style scoped>\n",
       "    .dataframe tbody tr th:only-of-type {\n",
       "        vertical-align: middle;\n",
       "    }\n",
       "\n",
       "    .dataframe tbody tr th {\n",
       "        vertical-align: top;\n",
       "    }\n",
       "\n",
       "    .dataframe thead th {\n",
       "        text-align: right;\n",
       "    }\n",
       "</style>\n",
       "<table border=\"1\" class=\"dataframe\">\n",
       "  <thead>\n",
       "    <tr style=\"text-align: right;\">\n",
       "      <th></th>\n",
       "      <th>Comment</th>\n",
       "      <th>Label</th>\n",
       "    </tr>\n",
       "  </thead>\n",
       "  <tbody>\n",
       "    <tr>\n",
       "      <th>0</th>\n",
       "      <td>This is a one of the best apps acording to a b...</td>\n",
       "      <td>1</td>\n",
       "    </tr>\n",
       "    <tr>\n",
       "      <th>1</th>\n",
       "      <td>This is a pretty good version of the game for ...</td>\n",
       "      <td>1</td>\n",
       "    </tr>\n",
       "    <tr>\n",
       "      <th>2</th>\n",
       "      <td>this is a really cool game. there are a bunch ...</td>\n",
       "      <td>1</td>\n",
       "    </tr>\n",
       "    <tr>\n",
       "      <th>3</th>\n",
       "      <td>This is a silly game and can be frustrating, b...</td>\n",
       "      <td>1</td>\n",
       "    </tr>\n",
       "    <tr>\n",
       "      <th>4</th>\n",
       "      <td>This is a terrific game on any pad. Hrs of fun...</td>\n",
       "      <td>1</td>\n",
       "    </tr>\n",
       "  </tbody>\n",
       "</table>\n",
       "</div>"
      ],
      "text/plain": [
       "                                             Comment  Label\n",
       "0  This is a one of the best apps acording to a b...      1\n",
       "1  This is a pretty good version of the game for ...      1\n",
       "2  this is a really cool game. there are a bunch ...      1\n",
       "3  This is a silly game and can be frustrating, b...      1\n",
       "4  This is a terrific game on any pad. Hrs of fun...      1"
      ]
     },
     "execution_count": 148,
     "metadata": {},
     "output_type": "execute_result"
    }
   ],
   "source": [
    "data1 = data.copy()\n",
    "data1.columns = [\"Comment\", \"Label\"]\n",
    "data1.head()"
   ]
  },
  {
   "cell_type": "markdown",
   "id": "2878b04c",
   "metadata": {},
   "source": [
    "* **Data transformation**"
   ]
  },
  {
   "cell_type": "code",
   "execution_count": 149,
   "id": "d6ef9e2e",
   "metadata": {},
   "outputs": [],
   "source": [
    "stop_words=set(stopwords.words('english'))\n",
    "lzr = WordNetLemmatizer()"
   ]
  },
  {
   "cell_type": "code",
   "execution_count": 150,
   "id": "d4348bdc",
   "metadata": {},
   "outputs": [],
   "source": [
    "def text_processing(text):   \n",
    "    # convert text into lowercase\n",
    "    text = text.lower()\n",
    "\n",
    "    # remove new line characters in text\n",
    "    text = re.sub(r'\\n',' ', text)\n",
    "    \n",
    "    # remove punctuations from text\n",
    "    text = re.sub('[%s]' % re.escape(punctuation), \"\", text)\n",
    "    \n",
    "    # remove references and hashtags from text\n",
    "    text = re.sub(\"^a-zA-Z0-9$,.\", \"\", text)\n",
    "    \n",
    "    # remove multiple spaces from text\n",
    "    text = re.sub(r'\\s+', ' ', text, flags=re.I)\n",
    "    \n",
    "    # remove special characters from text\n",
    "    text = re.sub(r'\\W', ' ', text)\n",
    "\n",
    "    text = ' '.join([word for word in word_tokenize(text) if word not in stop_words])\n",
    "    \n",
    "    text=' '.join([lzr.lemmatize(word) for word in word_tokenize(text)])\n",
    "\n",
    "    return text"
   ]
  },
  {
   "cell_type": "code",
   "execution_count": null,
   "id": "1b76fdb6",
   "metadata": {},
   "outputs": [],
   "source": []
  },
  {
   "cell_type": "code",
   "execution_count": 151,
   "id": "4d338838",
   "metadata": {},
   "outputs": [
    {
     "name": "stderr",
     "output_type": "stream",
     "text": [
      "[nltk_data] Downloading package omw-1.4 to\n",
      "[nltk_data]     C:\\Users\\HP\\AppData\\Roaming\\nltk_data...\n",
      "[nltk_data]   Package omw-1.4 is already up-to-date!\n"
     ]
    }
   ],
   "source": [
    "nltk.download('omw-1.4')\n",
    "data_copy = data1.copy()\n",
    "data_copy.Comment = data_copy.Comment.apply(text_processing)"
   ]
  },
  {
   "cell_type": "code",
   "execution_count": 152,
   "id": "53f40202",
   "metadata": {},
   "outputs": [
    {
     "data": {
      "text/plain": [
       "1    15233\n",
       "0     4767\n",
       "Name: Label, dtype: int64"
      ]
     },
     "execution_count": 152,
     "metadata": {},
     "output_type": "execute_result"
    }
   ],
   "source": [
    "#difference_counts = (data_copy[\"Label\"] == 1).sum() - (data_copy[\"Label\"] == 0).sum()\n",
    "data_copy[\"Label\"].value_counts()"
   ]
  },
  {
   "cell_type": "code",
   "execution_count": 153,
   "id": "b1c65f3e",
   "metadata": {},
   "outputs": [
    {
     "data": {
      "text/plain": [
       "0    15233\n",
       "1    15233\n",
       "Name: Label, dtype: int64"
      ]
     },
     "execution_count": 153,
     "metadata": {},
     "output_type": "execute_result"
    }
   ],
   "source": [
    " from sklearn.utils import resample\n",
    "    \n",
    "df_negative = data_copy[(data_copy['Label']==0)]\n",
    "df_positive = data_copy[(data_copy['Label']==1)]\n",
    "\n",
    "# upsample minority classes\n",
    "df_negative_upsampled = resample(df_negative, \n",
    "                                 replace=True,    \n",
    "                                 n_samples=15233, \n",
    "                                 random_state=42)  \n",
    "\n",
    "\n",
    "\n",
    "#  Concatenate the upsampled dataframes\n",
    "data_copy = pd.concat([df_negative_upsampled,df_positive])\n",
    "\n",
    "data_copy['Label'].value_counts()"
   ]
  },
  {
   "cell_type": "code",
   "execution_count": 154,
   "id": "6667a987",
   "metadata": {},
   "outputs": [],
   "source": [
    "\n",
    "sentiments = SentimentIntensityAnalyzer()\n",
    "data_copy[\"Positive\"] = [sentiments.polarity_scores(i)[\"pos\"] for i in data_copy[\"Comment\"]]\n",
    "data_copy[\"Negative\"] = [sentiments.polarity_scores(i)[\"neg\"] for i in data_copy[\"Comment\"]]\n",
    "data_copy[\"Neutral\"] = [sentiments.polarity_scores(i)[\"neu\"] for i in data_copy[\"Comment\"]]\n",
    "data_copy['Compound'] = [sentiments.polarity_scores(i)[\"compound\"] for i in data_copy[\"Comment\"]]\n",
    "score = data_copy[\"Compound\"].values\n",
    "sentiment = []\n",
    "for i in score:\n",
    "    if i > 0.0 :\n",
    "        sentiment.append('Positive')\n",
    "    else:\n",
    "        sentiment.append('Negative')\n",
    "data_copy[\"Sentiment\"] = sentiment"
   ]
  },
  {
   "cell_type": "code",
   "execution_count": 155,
   "id": "80e97a5c",
   "metadata": {},
   "outputs": [
    {
     "data": {
      "text/html": [
       "<div>\n",
       "<style scoped>\n",
       "    .dataframe tbody tr th:only-of-type {\n",
       "        vertical-align: middle;\n",
       "    }\n",
       "\n",
       "    .dataframe tbody tr th {\n",
       "        vertical-align: top;\n",
       "    }\n",
       "\n",
       "    .dataframe thead th {\n",
       "        text-align: right;\n",
       "    }\n",
       "</style>\n",
       "<table border=\"1\" class=\"dataframe\">\n",
       "  <thead>\n",
       "    <tr style=\"text-align: right;\">\n",
       "      <th></th>\n",
       "      <th>Comment</th>\n",
       "      <th>Label</th>\n",
       "      <th>Positive</th>\n",
       "      <th>Negative</th>\n",
       "      <th>Neutral</th>\n",
       "      <th>Compound</th>\n",
       "      <th>Sentiment</th>\n",
       "    </tr>\n",
       "  </thead>\n",
       "  <tbody>\n",
       "    <tr>\n",
       "      <th>4056</th>\n",
       "      <td>dont buy even free dont download shouldnt rewa...</td>\n",
       "      <td>0</td>\n",
       "      <td>0.111</td>\n",
       "      <td>0.260</td>\n",
       "      <td>0.628</td>\n",
       "      <td>-0.5144</td>\n",
       "      <td>Negative</td>\n",
       "    </tr>\n",
       "    <tr>\n",
       "      <th>17480</th>\n",
       "      <td>finally found right calorie counter keep track...</td>\n",
       "      <td>0</td>\n",
       "      <td>0.000</td>\n",
       "      <td>0.000</td>\n",
       "      <td>1.000</td>\n",
       "      <td>0.0000</td>\n",
       "      <td>Negative</td>\n",
       "    </tr>\n",
       "    <tr>\n",
       "      <th>14395</th>\n",
       "      <td>playing kindle fire hd great fun crash 4 min g...</td>\n",
       "      <td>0</td>\n",
       "      <td>0.579</td>\n",
       "      <td>0.212</td>\n",
       "      <td>0.208</td>\n",
       "      <td>0.8316</td>\n",
       "      <td>Positive</td>\n",
       "    </tr>\n",
       "    <tr>\n",
       "      <th>2483</th>\n",
       "      <td>dont like u go back forth boring go dont think...</td>\n",
       "      <td>0</td>\n",
       "      <td>0.000</td>\n",
       "      <td>0.330</td>\n",
       "      <td>0.670</td>\n",
       "      <td>-0.7105</td>\n",
       "      <td>Negative</td>\n",
       "    </tr>\n",
       "    <tr>\n",
       "      <th>18930</th>\n",
       "      <td>app time change view free one soooooooo much b...</td>\n",
       "      <td>0</td>\n",
       "      <td>0.398</td>\n",
       "      <td>0.073</td>\n",
       "      <td>0.528</td>\n",
       "      <td>0.7906</td>\n",
       "      <td>Positive</td>\n",
       "    </tr>\n",
       "    <tr>\n",
       "      <th>...</th>\n",
       "      <td>...</td>\n",
       "      <td>...</td>\n",
       "      <td>...</td>\n",
       "      <td>...</td>\n",
       "      <td>...</td>\n",
       "      <td>...</td>\n",
       "      <td>...</td>\n",
       "    </tr>\n",
       "    <tr>\n",
       "      <th>19992</th>\n",
       "      <td>love app cant get enough almost like green far...</td>\n",
       "      <td>1</td>\n",
       "      <td>0.368</td>\n",
       "      <td>0.000</td>\n",
       "      <td>0.632</td>\n",
       "      <td>0.7512</td>\n",
       "      <td>Positive</td>\n",
       "    </tr>\n",
       "    <tr>\n",
       "      <th>19993</th>\n",
       "      <td>could rate 1000000000000000000000 star honestl...</td>\n",
       "      <td>1</td>\n",
       "      <td>0.549</td>\n",
       "      <td>0.000</td>\n",
       "      <td>0.451</td>\n",
       "      <td>0.9274</td>\n",
       "      <td>Positive</td>\n",
       "    </tr>\n",
       "    <tr>\n",
       "      <th>19996</th>\n",
       "      <td>please add need neighbor ginger1016 thanks bun...</td>\n",
       "      <td>1</td>\n",
       "      <td>0.602</td>\n",
       "      <td>0.000</td>\n",
       "      <td>0.398</td>\n",
       "      <td>0.9337</td>\n",
       "      <td>Positive</td>\n",
       "    </tr>\n",
       "    <tr>\n",
       "      <th>19997</th>\n",
       "      <td>love game awesome wish free stuff house didnt ...</td>\n",
       "      <td>1</td>\n",
       "      <td>0.556</td>\n",
       "      <td>0.210</td>\n",
       "      <td>0.233</td>\n",
       "      <td>0.8719</td>\n",
       "      <td>Positive</td>\n",
       "    </tr>\n",
       "    <tr>\n",
       "      <th>19998</th>\n",
       "      <td>love love love app side fashion story fight wo...</td>\n",
       "      <td>1</td>\n",
       "      <td>0.575</td>\n",
       "      <td>0.103</td>\n",
       "      <td>0.322</td>\n",
       "      <td>0.9787</td>\n",
       "      <td>Positive</td>\n",
       "    </tr>\n",
       "  </tbody>\n",
       "</table>\n",
       "<p>30466 rows × 7 columns</p>\n",
       "</div>"
      ],
      "text/plain": [
       "                                                 Comment  Label  Positive  \\\n",
       "4056   dont buy even free dont download shouldnt rewa...      0     0.111   \n",
       "17480  finally found right calorie counter keep track...      0     0.000   \n",
       "14395  playing kindle fire hd great fun crash 4 min g...      0     0.579   \n",
       "2483   dont like u go back forth boring go dont think...      0     0.000   \n",
       "18930  app time change view free one soooooooo much b...      0     0.398   \n",
       "...                                                  ...    ...       ...   \n",
       "19992  love app cant get enough almost like green far...      1     0.368   \n",
       "19993  could rate 1000000000000000000000 star honestl...      1     0.549   \n",
       "19996  please add need neighbor ginger1016 thanks bun...      1     0.602   \n",
       "19997  love game awesome wish free stuff house didnt ...      1     0.556   \n",
       "19998  love love love app side fashion story fight wo...      1     0.575   \n",
       "\n",
       "       Negative  Neutral  Compound Sentiment  \n",
       "4056      0.260    0.628   -0.5144  Negative  \n",
       "17480     0.000    1.000    0.0000  Negative  \n",
       "14395     0.212    0.208    0.8316  Positive  \n",
       "2483      0.330    0.670   -0.7105  Negative  \n",
       "18930     0.073    0.528    0.7906  Positive  \n",
       "...         ...      ...       ...       ...  \n",
       "19992     0.000    0.632    0.7512  Positive  \n",
       "19993     0.000    0.451    0.9274  Positive  \n",
       "19996     0.000    0.398    0.9337  Positive  \n",
       "19997     0.210    0.233    0.8719  Positive  \n",
       "19998     0.103    0.322    0.9787  Positive  \n",
       "\n",
       "[30466 rows x 7 columns]"
      ]
     },
     "execution_count": 155,
     "metadata": {},
     "output_type": "execute_result"
    }
   ],
   "source": [
    "data_copy"
   ]
  },
  {
   "cell_type": "markdown",
   "id": "e70882c9",
   "metadata": {},
   "source": [
    "* **Final data**"
   ]
  },
  {
   "cell_type": "code",
   "execution_count": 156,
   "id": "ceb73052",
   "metadata": {},
   "outputs": [
    {
     "data": {
      "text/html": [
       "<div>\n",
       "<style scoped>\n",
       "    .dataframe tbody tr th:only-of-type {\n",
       "        vertical-align: middle;\n",
       "    }\n",
       "\n",
       "    .dataframe tbody tr th {\n",
       "        vertical-align: top;\n",
       "    }\n",
       "\n",
       "    .dataframe thead th {\n",
       "        text-align: right;\n",
       "    }\n",
       "</style>\n",
       "<table border=\"1\" class=\"dataframe\">\n",
       "  <thead>\n",
       "    <tr style=\"text-align: right;\">\n",
       "      <th></th>\n",
       "      <th>Comment</th>\n",
       "      <th>Label</th>\n",
       "      <th>Sentiment</th>\n",
       "    </tr>\n",
       "  </thead>\n",
       "  <tbody>\n",
       "    <tr>\n",
       "      <th>4056</th>\n",
       "      <td>dont buy even free dont download shouldnt rewa...</td>\n",
       "      <td>0</td>\n",
       "      <td>Negative</td>\n",
       "    </tr>\n",
       "    <tr>\n",
       "      <th>17480</th>\n",
       "      <td>finally found right calorie counter keep track...</td>\n",
       "      <td>0</td>\n",
       "      <td>Negative</td>\n",
       "    </tr>\n",
       "    <tr>\n",
       "      <th>14395</th>\n",
       "      <td>playing kindle fire hd great fun crash 4 min g...</td>\n",
       "      <td>0</td>\n",
       "      <td>Positive</td>\n",
       "    </tr>\n",
       "    <tr>\n",
       "      <th>2483</th>\n",
       "      <td>dont like u go back forth boring go dont think...</td>\n",
       "      <td>0</td>\n",
       "      <td>Negative</td>\n",
       "    </tr>\n",
       "    <tr>\n",
       "      <th>18930</th>\n",
       "      <td>app time change view free one soooooooo much b...</td>\n",
       "      <td>0</td>\n",
       "      <td>Positive</td>\n",
       "    </tr>\n",
       "  </tbody>\n",
       "</table>\n",
       "</div>"
      ],
      "text/plain": [
       "                                                 Comment  Label Sentiment\n",
       "4056   dont buy even free dont download shouldnt rewa...      0  Negative\n",
       "17480  finally found right calorie counter keep track...      0  Negative\n",
       "14395  playing kindle fire hd great fun crash 4 min g...      0  Positive\n",
       "2483   dont like u go back forth boring go dont think...      0  Negative\n",
       "18930  app time change view free one soooooooo much b...      0  Positive"
      ]
     },
     "execution_count": 156,
     "metadata": {},
     "output_type": "execute_result"
    }
   ],
   "source": [
    "data2=data_copy.drop(['Positive','Negative','Neutral','Compound'],axis=1)\n",
    "data2.head()"
   ]
  },
  {
   "cell_type": "code",
   "execution_count": 158,
   "id": "107f23cc",
   "metadata": {},
   "outputs": [],
   "source": [
    "from sklearn.preprocessing import LabelEncoder\n",
    "le = LabelEncoder()\n",
    "data_copy['VaderSentiment'] = le.fit_transform(data2['Sentiment'])"
   ]
  },
  {
   "cell_type": "code",
   "execution_count": 159,
   "id": "f920b79d",
   "metadata": {
    "scrolled": false
   },
   "outputs": [
    {
     "data": {
      "text/plain": [
       "1    21226\n",
       "0     9240\n",
       "Name: VaderSentiment, dtype: int64"
      ]
     },
     "execution_count": 159,
     "metadata": {},
     "output_type": "execute_result"
    }
   ],
   "source": [
    "data_copy['VaderSentiment'].value_counts()"
   ]
  },
  {
   "cell_type": "code",
   "execution_count": 160,
   "id": "2d7fc49b",
   "metadata": {},
   "outputs": [
    {
     "data": {
      "text/html": [
       "<div>\n",
       "<style scoped>\n",
       "    .dataframe tbody tr th:only-of-type {\n",
       "        vertical-align: middle;\n",
       "    }\n",
       "\n",
       "    .dataframe tbody tr th {\n",
       "        vertical-align: top;\n",
       "    }\n",
       "\n",
       "    .dataframe thead th {\n",
       "        text-align: right;\n",
       "    }\n",
       "</style>\n",
       "<table border=\"1\" class=\"dataframe\">\n",
       "  <thead>\n",
       "    <tr style=\"text-align: right;\">\n",
       "      <th></th>\n",
       "      <th>Comment</th>\n",
       "      <th>Label</th>\n",
       "      <th>Positive</th>\n",
       "      <th>Negative</th>\n",
       "      <th>Neutral</th>\n",
       "      <th>Compound</th>\n",
       "      <th>Sentiment</th>\n",
       "      <th>VaderSentiment</th>\n",
       "    </tr>\n",
       "  </thead>\n",
       "  <tbody>\n",
       "    <tr>\n",
       "      <th>4056</th>\n",
       "      <td>dont buy even free dont download shouldnt rewa...</td>\n",
       "      <td>0</td>\n",
       "      <td>0.111</td>\n",
       "      <td>0.260</td>\n",
       "      <td>0.628</td>\n",
       "      <td>-0.5144</td>\n",
       "      <td>Negative</td>\n",
       "      <td>0</td>\n",
       "    </tr>\n",
       "    <tr>\n",
       "      <th>17480</th>\n",
       "      <td>finally found right calorie counter keep track...</td>\n",
       "      <td>0</td>\n",
       "      <td>0.000</td>\n",
       "      <td>0.000</td>\n",
       "      <td>1.000</td>\n",
       "      <td>0.0000</td>\n",
       "      <td>Negative</td>\n",
       "      <td>0</td>\n",
       "    </tr>\n",
       "    <tr>\n",
       "      <th>14395</th>\n",
       "      <td>playing kindle fire hd great fun crash 4 min g...</td>\n",
       "      <td>0</td>\n",
       "      <td>0.579</td>\n",
       "      <td>0.212</td>\n",
       "      <td>0.208</td>\n",
       "      <td>0.8316</td>\n",
       "      <td>Positive</td>\n",
       "      <td>1</td>\n",
       "    </tr>\n",
       "    <tr>\n",
       "      <th>2483</th>\n",
       "      <td>dont like u go back forth boring go dont think...</td>\n",
       "      <td>0</td>\n",
       "      <td>0.000</td>\n",
       "      <td>0.330</td>\n",
       "      <td>0.670</td>\n",
       "      <td>-0.7105</td>\n",
       "      <td>Negative</td>\n",
       "      <td>0</td>\n",
       "    </tr>\n",
       "    <tr>\n",
       "      <th>18930</th>\n",
       "      <td>app time change view free one soooooooo much b...</td>\n",
       "      <td>0</td>\n",
       "      <td>0.398</td>\n",
       "      <td>0.073</td>\n",
       "      <td>0.528</td>\n",
       "      <td>0.7906</td>\n",
       "      <td>Positive</td>\n",
       "      <td>1</td>\n",
       "    </tr>\n",
       "  </tbody>\n",
       "</table>\n",
       "</div>"
      ],
      "text/plain": [
       "                                                 Comment  Label  Positive  \\\n",
       "4056   dont buy even free dont download shouldnt rewa...      0     0.111   \n",
       "17480  finally found right calorie counter keep track...      0     0.000   \n",
       "14395  playing kindle fire hd great fun crash 4 min g...      0     0.579   \n",
       "2483   dont like u go back forth boring go dont think...      0     0.000   \n",
       "18930  app time change view free one soooooooo much b...      0     0.398   \n",
       "\n",
       "       Negative  Neutral  Compound Sentiment  VaderSentiment  \n",
       "4056      0.260    0.628   -0.5144  Negative               0  \n",
       "17480     0.000    1.000    0.0000  Negative               0  \n",
       "14395     0.212    0.208    0.8316  Positive               1  \n",
       "2483      0.330    0.670   -0.7105  Negative               0  \n",
       "18930     0.073    0.528    0.7906  Positive               1  "
      ]
     },
     "execution_count": 160,
     "metadata": {},
     "output_type": "execute_result"
    }
   ],
   "source": [
    "data_copy.head()"
   ]
  },
  {
   "cell_type": "code",
   "execution_count": 161,
   "id": "fcb32edc",
   "metadata": {},
   "outputs": [
    {
     "data": {
      "text/html": [
       "<div>\n",
       "<style scoped>\n",
       "    .dataframe tbody tr th:only-of-type {\n",
       "        vertical-align: middle;\n",
       "    }\n",
       "\n",
       "    .dataframe tbody tr th {\n",
       "        vertical-align: top;\n",
       "    }\n",
       "\n",
       "    .dataframe thead th {\n",
       "        text-align: right;\n",
       "    }\n",
       "</style>\n",
       "<table border=\"1\" class=\"dataframe\">\n",
       "  <thead>\n",
       "    <tr style=\"text-align: right;\">\n",
       "      <th></th>\n",
       "      <th>Sentence</th>\n",
       "      <th>Label</th>\n",
       "      <th>VaderSentiment</th>\n",
       "    </tr>\n",
       "  </thead>\n",
       "  <tbody>\n",
       "    <tr>\n",
       "      <th>4056</th>\n",
       "      <td>dont buy even free dont download shouldnt rewa...</td>\n",
       "      <td>0</td>\n",
       "      <td>0</td>\n",
       "    </tr>\n",
       "    <tr>\n",
       "      <th>17480</th>\n",
       "      <td>finally found right calorie counter keep track...</td>\n",
       "      <td>0</td>\n",
       "      <td>0</td>\n",
       "    </tr>\n",
       "    <tr>\n",
       "      <th>14395</th>\n",
       "      <td>playing kindle fire hd great fun crash 4 min g...</td>\n",
       "      <td>0</td>\n",
       "      <td>1</td>\n",
       "    </tr>\n",
       "    <tr>\n",
       "      <th>2483</th>\n",
       "      <td>dont like u go back forth boring go dont think...</td>\n",
       "      <td>0</td>\n",
       "      <td>0</td>\n",
       "    </tr>\n",
       "    <tr>\n",
       "      <th>18930</th>\n",
       "      <td>app time change view free one soooooooo much b...</td>\n",
       "      <td>0</td>\n",
       "      <td>1</td>\n",
       "    </tr>\n",
       "    <tr>\n",
       "      <th>...</th>\n",
       "      <td>...</td>\n",
       "      <td>...</td>\n",
       "      <td>...</td>\n",
       "    </tr>\n",
       "    <tr>\n",
       "      <th>19992</th>\n",
       "      <td>love app cant get enough almost like green far...</td>\n",
       "      <td>1</td>\n",
       "      <td>1</td>\n",
       "    </tr>\n",
       "    <tr>\n",
       "      <th>19993</th>\n",
       "      <td>could rate 1000000000000000000000 star honestl...</td>\n",
       "      <td>1</td>\n",
       "      <td>1</td>\n",
       "    </tr>\n",
       "    <tr>\n",
       "      <th>19996</th>\n",
       "      <td>please add need neighbor ginger1016 thanks bun...</td>\n",
       "      <td>1</td>\n",
       "      <td>1</td>\n",
       "    </tr>\n",
       "    <tr>\n",
       "      <th>19997</th>\n",
       "      <td>love game awesome wish free stuff house didnt ...</td>\n",
       "      <td>1</td>\n",
       "      <td>1</td>\n",
       "    </tr>\n",
       "    <tr>\n",
       "      <th>19998</th>\n",
       "      <td>love love love app side fashion story fight wo...</td>\n",
       "      <td>1</td>\n",
       "      <td>1</td>\n",
       "    </tr>\n",
       "  </tbody>\n",
       "</table>\n",
       "<p>30466 rows × 3 columns</p>\n",
       "</div>"
      ],
      "text/plain": [
       "                                                Sentence  Label  \\\n",
       "4056   dont buy even free dont download shouldnt rewa...      0   \n",
       "17480  finally found right calorie counter keep track...      0   \n",
       "14395  playing kindle fire hd great fun crash 4 min g...      0   \n",
       "2483   dont like u go back forth boring go dont think...      0   \n",
       "18930  app time change view free one soooooooo much b...      0   \n",
       "...                                                  ...    ...   \n",
       "19992  love app cant get enough almost like green far...      1   \n",
       "19993  could rate 1000000000000000000000 star honestl...      1   \n",
       "19996  please add need neighbor ginger1016 thanks bun...      1   \n",
       "19997  love game awesome wish free stuff house didnt ...      1   \n",
       "19998  love love love app side fashion story fight wo...      1   \n",
       "\n",
       "       VaderSentiment  \n",
       "4056                0  \n",
       "17480               0  \n",
       "14395               1  \n",
       "2483                0  \n",
       "18930               1  \n",
       "...               ...  \n",
       "19992               1  \n",
       "19993               1  \n",
       "19996               1  \n",
       "19997               1  \n",
       "19998               1  \n",
       "\n",
       "[30466 rows x 3 columns]"
      ]
     },
     "execution_count": 161,
     "metadata": {},
     "output_type": "execute_result"
    }
   ],
   "source": [
    "processed_data = {\n",
    "    'Sentence':data_copy.Comment,\n",
    "    'Label': data_copy.Label,\n",
    "    'VaderSentiment':data_copy['VaderSentiment']\n",
    "}\n",
    "\n",
    "processed_data = pd.DataFrame(processed_data)\n",
    "processed_data"
   ]
  },
  {
   "cell_type": "code",
   "execution_count": 162,
   "id": "4128cac5",
   "metadata": {},
   "outputs": [
    {
     "data": {
      "text/plain": [
       "1    21226\n",
       "0     9240\n",
       "Name: VaderSentiment, dtype: int64"
      ]
     },
     "execution_count": 162,
     "metadata": {},
     "output_type": "execute_result"
    }
   ],
   "source": [
    "processed_data['VaderSentiment'].value_counts()"
   ]
  },
  {
   "cell_type": "code",
   "execution_count": 163,
   "id": "2a97b1fc",
   "metadata": {},
   "outputs": [],
   "source": [
    "final_data = processed_data.copy()"
   ]
  },
  {
   "cell_type": "code",
   "execution_count": 164,
   "id": "feee6ec4",
   "metadata": {
    "scrolled": true
   },
   "outputs": [],
   "source": [
    "from sklearn.metrics import confusion_matrix\n",
    "cm1 = confusion_matrix(final_data['Label'], final_data['VaderSentiment'])"
   ]
  },
  {
   "cell_type": "code",
   "execution_count": 165,
   "id": "407abb85",
   "metadata": {},
   "outputs": [
    {
     "data": {
      "text/plain": [
       "array([[ 7736,  7497],\n",
       "       [ 1504, 13729]], dtype=int64)"
      ]
     },
     "execution_count": 165,
     "metadata": {},
     "output_type": "execute_result"
    }
   ],
   "source": [
    "cm1"
   ]
  },
  {
   "cell_type": "code",
   "execution_count": 166,
   "id": "a95df82a",
   "metadata": {},
   "outputs": [
    {
     "data": {
      "image/png": "[encoded data removed]",
      "text/plain": [
       "<Figure size 640x480 with 2 Axes>"
      ]
     },
     "metadata": {},
     "output_type": "display_data"
    }
   ],
   "source": [
    "from sklearn.metrics import confusion_matrix\n",
    "import seaborn as sns\n",
    "import matplotlib.pyplot as plt\n",
    "\n",
    "sns.heatmap(cm1, \n",
    "            annot=True,\n",
    "            fmt='g', \n",
    "            xticklabels=['Negative','Positive'],\n",
    "            yticklabels=['Negative','Positive'])\n",
    "plt.ylabel('Prediction',fontsize=13)\n",
    "plt.xlabel('Actual',fontsize=13)\n",
    "plt.title('Confusion Matrix',fontsize=17)\n",
    "plt.show()"
   ]
  },
  {
   "cell_type": "code",
   "execution_count": 167,
   "id": "c4ef9478",
   "metadata": {},
   "outputs": [
    {
     "name": "stdout",
     "output_type": "stream",
     "text": [
      "              precision    recall  f1-score   support\n",
      "\n",
      "           0       0.84      0.51      0.63     15233\n",
      "           1       0.65      0.90      0.75     15233\n",
      "\n",
      "    accuracy                           0.70     30466\n",
      "   macro avg       0.74      0.70      0.69     30466\n",
      "weighted avg       0.74      0.70      0.69     30466\n",
      "\n"
     ]
    }
   ],
   "source": [
    "from sklearn.metrics import classification_report\n",
    "print(classification_report(final_data['Label'], final_data['VaderSentiment']))"
   ]
  },
  {
   "cell_type": "markdown",
   "id": "e174a740",
   "metadata": {},
   "source": [
    "### Naive Bayes Model"
   ]
  },
  {
   "cell_type": "code",
   "execution_count": 168,
   "id": "75381669",
   "metadata": {
    "scrolled": true
   },
   "outputs": [
    {
     "data": {
      "text/plain": [
       "['dont buy even free dont download shouldnt reward company lie advertisement make android run worse majy phone',\n",
       " 'finally found right calorie counter keep track daily food intake exercise calorie burned printable youre keeping track six month record',\n",
       " 'playing kindle fire hd great fun crash 4 min game play please fix',\n",
       " 'dont like u go back forth boring go dont think ever end also touchy u tilt go extreme mess u',\n",
       " 'app time change view free one soooooooo much better one strange number text middle reading book much sure']"
      ]
     },
     "execution_count": 168,
     "metadata": {},
     "output_type": "execute_result"
    }
   ],
   "source": [
    "corpus = []\n",
    "for sentence in final_data['Sentence']:\n",
    "    corpus.append(sentence)\n",
    "corpus[0:5]"
   ]
  },
  {
   "cell_type": "code",
   "execution_count": 169,
   "id": "8b7eb09f",
   "metadata": {},
   "outputs": [],
   "source": [
    "from sklearn.feature_extraction.text import CountVectorizer\n",
    "cv = CountVectorizer(max_features=1500)\n",
    "X = cv.fit_transform(corpus).toarray()\n",
    "y = final_data[\"Label\"].values"
   ]
  },
  {
   "cell_type": "markdown",
   "id": "1a5cb7cc",
   "metadata": {},
   "source": [
    "## Machine Learning Model "
   ]
  },
  {
   "cell_type": "code",
   "execution_count": 170,
   "id": "a7697f7b",
   "metadata": {},
   "outputs": [
    {
     "data": {
      "text/html": [
       "<style>#sk-container-id-3 {color: black;}#sk-container-id-3 pre{padding: 0;}#sk-container-id-3 div.sk-toggleable {background-color: white;}#sk-container-id-3 label.sk-toggleable__label {cursor: pointer;display: block;width: 100%;margin-bottom: 0;padding: 0.3em;box-sizing: border-box;text-align: center;}#sk-container-id-3 label.sk-toggleable__label-arrow:before {content: \"▸\";float: left;margin-right: 0.25em;color: #696969;}#sk-container-id-3 label.sk-toggleable__label-arrow:hover:before {color: black;}#sk-container-id-3 div.sk-estimator:hover label.sk-toggleable__label-arrow:before {color: black;}#sk-container-id-3 div.sk-toggleable__content {max-height: 0;max-width: 0;overflow: hidden;text-align: left;background-color: #f0f8ff;}#sk-container-id-3 div.sk-toggleable__content pre {margin: 0.2em;color: black;border-radius: 0.25em;background-color: #f0f8ff;}#sk-container-id-3 input.sk-toggleable__control:checked~div.sk-toggleable__content {max-height: 200px;max-width: 100%;overflow: auto;}#sk-container-id-3 input.sk-toggleable__control:checked~label.sk-toggleable__label-arrow:before {content: \"▾\";}#sk-container-id-3 div.sk-estimator input.sk-toggleable__control:checked~label.sk-toggleable__label {background-color: #d4ebff;}#sk-container-id-3 div.sk-label input.sk-toggleable__control:checked~label.sk-toggleable__label {background-color: #d4ebff;}#sk-container-id-3 input.sk-hidden--visually {border: 0;clip: rect(1px 1px 1px 1px);clip: rect(1px, 1px, 1px, 1px);height: 1px;margin: -1px;overflow: hidden;padding: 0;position: absolute;width: 1px;}#sk-container-id-3 div.sk-estimator {font-family: monospace;background-color: #f0f8ff;border: 1px dotted black;border-radius: 0.25em;box-sizing: border-box;margin-bottom: 0.5em;}#sk-container-id-3 div.sk-estimator:hover {background-color: #d4ebff;}#sk-container-id-3 div.sk-parallel-item::after {content: \"\";width: 100%;border-bottom: 1px solid gray;flex-grow: 1;}#sk-container-id-3 div.sk-label:hover label.sk-toggleable__label {background-color: #d4ebff;}#sk-container-id-3 div.sk-serial::before {content: \"\";position: absolute;border-left: 1px solid gray;box-sizing: border-box;top: 0;bottom: 0;left: 50%;z-index: 0;}#sk-container-id-3 div.sk-serial {display: flex;flex-direction: column;align-items: center;background-color: white;padding-right: 0.2em;padding-left: 0.2em;position: relative;}#sk-container-id-3 div.sk-item {position: relative;z-index: 1;}#sk-container-id-3 div.sk-parallel {display: flex;align-items: stretch;justify-content: center;background-color: white;position: relative;}#sk-container-id-3 div.sk-item::before, #sk-container-id-3 div.sk-parallel-item::before {content: \"\";position: absolute;border-left: 1px solid gray;box-sizing: border-box;top: 0;bottom: 0;left: 50%;z-index: -1;}#sk-container-id-3 div.sk-parallel-item {display: flex;flex-direction: column;z-index: 1;position: relative;background-color: white;}#sk-container-id-3 div.sk-parallel-item:first-child::after {align-self: flex-end;width: 50%;}#sk-container-id-3 div.sk-parallel-item:last-child::after {align-self: flex-start;width: 50%;}#sk-container-id-3 div.sk-parallel-item:only-child::after {width: 0;}#sk-container-id-3 div.sk-dashed-wrapped {border: 1px dashed gray;margin: 0 0.4em 0.5em 0.4em;box-sizing: border-box;padding-bottom: 0.4em;background-color: white;}#sk-container-id-3 div.sk-label label {font-family: monospace;font-weight: bold;display: inline-block;line-height: 1.2em;}#sk-container-id-3 div.sk-label-container {text-align: center;}#sk-container-id-3 div.sk-container {/* jupyter's `normalize.less` sets `[hidden] { display: none; }` but bootstrap.min.css set `[hidden] { display: none !important; }` so we also need the `!important` here to be able to override the default hidden behavior on the sphinx rendered scikit-learn.org. See: https://github.com/scikit-learn/scikit-learn/issues/21755 */display: inline-block !important;position: relative;}#sk-container-id-3 div.sk-text-repr-fallback {display: none;}</style><div id=\"sk-container-id-3\" class=\"sk-top-container\"><div class=\"sk-text-repr-fallback\"><pre>GaussianNB()</pre><b>In a Jupyter environment, please rerun this cell to show the HTML representation or trust the notebook. <br />On GitHub, the HTML representation is unable to render, please try loading this page with nbviewer.org.</b></div><div class=\"sk-container\" hidden><div class=\"sk-item\"><div class=\"sk-estimator sk-toggleable\"><input class=\"sk-toggleable__control sk-hidden--visually\" id=\"sk-estimator-id-3\" type=\"checkbox\" checked><label for=\"sk-estimator-id-3\" class=\"sk-toggleable__label sk-toggleable__label-arrow\">GaussianNB</label><div class=\"sk-toggleable__content\"><pre>GaussianNB()</pre></div></div></div></div></div>"
      ],
      "text/plain": [
       "GaussianNB()"
      ]
     },
     "execution_count": 170,
     "metadata": {},
     "output_type": "execute_result"
    }
   ],
   "source": [
    "from sklearn.naive_bayes import GaussianNB\n",
    "from sklearn.model_selection import train_test_split\n",
    "X_train, X_test, y_train, y_test = train_test_split(X, y, test_size=0.3, random_state=0)\n",
    "classifier = GaussianNB()\n",
    "classifier.fit(X_train, y_train)"
   ]
  },
  {
   "cell_type": "markdown",
   "id": "9f28eed6",
   "metadata": {},
   "source": [
    "* **Evaluation**"
   ]
  },
  {
   "cell_type": "code",
   "execution_count": 171,
   "id": "003c5d95",
   "metadata": {},
   "outputs": [
    {
     "data": {
      "text/plain": [
       "array([[3832,  681],\n",
       "       [1048, 3579]], dtype=int64)"
      ]
     },
     "execution_count": 171,
     "metadata": {},
     "output_type": "execute_result"
    }
   ],
   "source": [
    "from sklearn.metrics import confusion_matrix, accuracy_score\n",
    "y_pred = classifier.predict(X_test)\n",
    "cm = confusion_matrix(y_test, y_pred)\n",
    "cm"
   ]
  },
  {
   "cell_type": "code",
   "execution_count": 172,
   "id": "d7181767",
   "metadata": {},
   "outputs": [
    {
     "name": "stdout",
     "output_type": "stream",
     "text": [
      "accuracy 0.8108315098468272\n"
     ]
    }
   ],
   "source": [
    "nb_score = accuracy_score(y_test, y_pred)\n",
    "print('accuracy',nb_score)"
   ]
  },
  {
   "cell_type": "code",
   "execution_count": 173,
   "id": "d12db2d5",
   "metadata": {},
   "outputs": [
    {
     "name": "stdout",
     "output_type": "stream",
     "text": [
      "              precision    recall  f1-score   support\n",
      "\n",
      "           0       0.79      0.85      0.82      4513\n",
      "           1       0.84      0.77      0.81      4627\n",
      "\n",
      "    accuracy                           0.81      9140\n",
      "   macro avg       0.81      0.81      0.81      9140\n",
      "weighted avg       0.81      0.81      0.81      9140\n",
      "\n"
     ]
    }
   ],
   "source": [
    "from sklearn.metrics import classification_report\n",
    "print(classification_report(y_test, y_pred))"
   ]
  },
  {
   "cell_type": "code",
   "execution_count": 174,
   "id": "a147b90b",
   "metadata": {},
   "outputs": [
    {
     "data": {
      "image/png": "[encoded data removed]",
      "text/plain": [
       "<Figure size 640x480 with 2 Axes>"
      ]
     },
     "metadata": {},
     "output_type": "display_data"
    }
   ],
   "source": [
    "from sklearn.metrics import confusion_matrix\n",
    "import seaborn as sns\n",
    "import matplotlib.pyplot as plt\n",
    "\n",
    "sns.heatmap(cm, \n",
    "            annot=True,\n",
    "            fmt='g', \n",
    "            xticklabels=['Negative','Positive'],\n",
    "            yticklabels=['Negative','Positive'])\n",
    "plt.ylabel('Prediction',fontsize=13)\n",
    "plt.xlabel('Actual',fontsize=13)\n",
    "plt.title('Confusion Matrix',fontsize=17)\n",
    "plt.show()"
   ]
  }
 ],
 "metadata": {
  "kernelspec": {
   "display_name": "Python 3 (ipykernel)",
   "language": "python",
   "name": "python3"
  },
  "language_info": {
   "codemirror_mode": {
    "name": "ipython",
    "version": 3
   },
   "file_extension": ".py",
   "mimetype": "text/x-python",
   "name": "python",
   "nbconvert_exporter": "python",
   "pygments_lexer": "ipython3",
   "version": "3.11.4"
  }
 },
 "nbformat": 4,
 "nbformat_minor": 5
}
